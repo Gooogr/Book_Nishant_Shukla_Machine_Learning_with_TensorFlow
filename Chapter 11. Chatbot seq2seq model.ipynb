{
 "cells": [
  {
   "cell_type": "code",
   "execution_count": 54,
   "metadata": {},
   "outputs": [
    {
     "name": "stdout",
     "output_type": "stream",
     "text": [
      "1.5.0\n"
     ]
    }
   ],
   "source": [
    "import numpy as np\n",
    "import matplotlib.pyplot as plt\n",
    "import tensorflow as tf\n",
    "print(tf.__version__)\n",
    "\n",
    "from tensorflow.contrib import rnn"
   ]
  },
  {
   "cell_type": "markdown",
   "metadata": {},
   "source": [
    "### Пример построения многослойной RNN"
   ]
  },
  {
   "cell_type": "code",
   "execution_count": 55,
   "metadata": {},
   "outputs": [],
   "source": [
    "tf.reset_default_graph()"
   ]
  },
  {
   "cell_type": "code",
   "execution_count": 56,
   "metadata": {},
   "outputs": [],
   "source": [
    "# Размер элемента последовательности\n",
    "input_dim = 1\n",
    "# Максимальная длина последовательности\n",
    "seq_size = 6\n",
    "input_placeholder = tf.placeholder(dtype=tf.float32, shape = [None, seq_size, input_dim])"
   ]
  },
  {
   "cell_type": "code",
   "execution_count": 57,
   "metadata": {},
   "outputs": [],
   "source": [
    "def make_cell(state_dim):\n",
    "    return rnn.LSTMCell(state_dim)"
   ]
  },
  {
   "cell_type": "code",
   "execution_count": 58,
   "metadata": {},
   "outputs": [],
   "source": [
    "with tf.variable_scope('first_cell') as scope:\n",
    "    cell = make_cell(state_dim=10)\n",
    "    outputs, states = tf.nn.dynamic_rnn(cell, input_placeholder, dtype=tf.float32)"
   ]
  },
  {
   "cell_type": "markdown",
   "metadata": {},
   "source": [
    "Добавим второй слой RNN"
   ]
  },
  {
   "cell_type": "code",
   "execution_count": 59,
   "metadata": {},
   "outputs": [],
   "source": [
    "with tf.variable_scope('second_cell') as scope:\n",
    "    cell2 = make_cell(state_dim=10)\n",
    "    outputs2, states2 = tf.nn.dynamic_rnn(cell2, outputs, dtype=tf.float32)"
   ]
  },
  {
   "cell_type": "markdown",
   "metadata": {},
   "source": [
    "А вот так можно генерировать N-слойную RNN через функцию"
   ]
  },
  {
   "cell_type": "code",
   "execution_count": 60,
   "metadata": {},
   "outputs": [],
   "source": [
    "def make_multi_cell(state_dim, num_layers):\n",
    "    cells = [make_cell(state_dim) for _ in range(num_layers)]\n",
    "    return tf.contrib.rnn.MultiRNNCell(cells)\n",
    "\n",
    "multi_cell = make_multi_cell(10, 4)\n",
    "outputs4, states4 = tf.nn.dynamic_rnn(multi_cell, input_placeholder, dtype=tf.float32)"
   ]
  },
  {
   "cell_type": "code",
   "execution_count": 61,
   "metadata": {},
   "outputs": [
    {
     "name": "stdout",
     "output_type": "stream",
     "text": [
      "(6, 1)\n"
     ]
    }
   ],
   "source": [
    "input_seq = np.array([[1], [2], [3], [4], [5], [6]])\n",
    "print(input_seq.shape)"
   ]
  },
  {
   "cell_type": "code",
   "execution_count": 62,
   "metadata": {},
   "outputs": [
    {
     "name": "stdout",
     "output_type": "stream",
     "text": [
      "(1, 6, 10)\n",
      "[[[ 0.01213899 -0.01747664 -0.09840459 -0.07862463  0.06918326\n",
      "    0.01471457 -0.04765848  0.01678335 -0.08550242 -0.08678307]\n",
      "  [ 0.02951852 -0.04574555 -0.2656264  -0.2057688   0.17627572\n",
      "    0.03392718 -0.13005243  0.02970474 -0.20255059 -0.23593435]\n",
      "  [ 0.04697986 -0.07879956 -0.44331038 -0.33861813  0.27569476\n",
      "    0.05223814 -0.2344428   0.02302817 -0.2964042  -0.388979  ]\n",
      "  [ 0.06127717 -0.1131615  -0.5917995  -0.4526136   0.34023574\n",
      "    0.06601307 -0.34262776 -0.00157824 -0.35174027 -0.5009568 ]\n",
      "  [ 0.0707844  -0.14893167 -0.701587   -0.54360825  0.3720381\n",
      "    0.07320756 -0.4367006  -0.03081479 -0.37255847 -0.57207274]\n",
      "  [ 0.07481673 -0.1872901  -0.7789084  -0.61551017  0.38524017\n",
      "    0.07377572 -0.5089137  -0.05180955 -0.36700588 -0.61706066]]]\n",
      "(1, 6, 10)\n",
      "[[[-0.0004555   0.00745969  0.01225844  0.00725293 -0.00225407\n",
      "   -0.00588956  0.00937326 -0.02595516 -0.01369777 -0.00394905]\n",
      "  [-0.00382454  0.02186456  0.03867245  0.02579366 -0.00924303\n",
      "   -0.02155678  0.03186812 -0.08980266 -0.05052912 -0.01223379]\n",
      "  [-0.01085565  0.03669483  0.07360217  0.05415357 -0.02188656\n",
      "   -0.04576915  0.06458872 -0.18277137 -0.10744989 -0.02122375]\n",
      "  [-0.01955761  0.04580958  0.11012145  0.08653311 -0.03915831\n",
      "   -0.07489036  0.10197267 -0.2812289  -0.17066576 -0.02706695]\n",
      "  [-0.02868179  0.04709502  0.14371568  0.1175878  -0.05820677\n",
      "   -0.10589298  0.13853022 -0.36614394 -0.22770694 -0.0285501 ]\n",
      "  [-0.03860362  0.0417933   0.17285818  0.14485753 -0.07640512\n",
      "   -0.13683297  0.17019229 -0.43118882 -0.27325857 -0.02656901]]]\n",
      "(1, 6, 10)\n",
      "[[[ 4.1681000e-05  8.7762979e-05  2.0276480e-05 -3.1655898e-05\n",
      "    1.0057627e-05 -2.8163387e-05 -1.5583679e-05 -1.3597434e-05\n",
      "    8.8022771e-06 -2.3334598e-05]\n",
      "  [ 2.3362706e-04  4.6142782e-04  7.9750920e-05 -1.6606181e-04\n",
      "    6.7309069e-05 -1.0477015e-04 -7.9571859e-05 -4.3249554e-05\n",
      "    4.5128378e-05 -6.6911896e-05]\n",
      "  [ 7.2429894e-04  1.3735479e-03  1.5588051e-04 -4.9699913e-04\n",
      "    2.2740506e-04 -1.9682066e-04 -2.4420099e-04 -5.6656758e-05\n",
      "    1.4068653e-04 -4.5216762e-05]\n",
      "  [ 1.6511700e-03  3.0233888e-03  1.5069182e-04 -1.1097082e-03\n",
      "    5.2778306e-04 -1.9015901e-04 -5.9084781e-04  1.5454054e-05\n",
      "    3.5545681e-04  2.3860951e-04]\n",
      "  [ 3.0820610e-03  5.4733232e-03 -1.1191082e-04 -2.0554743e-03\n",
      "    9.6513296e-04  7.8471057e-05 -1.2127887e-03  2.6639033e-04\n",
      "    7.7387935e-04  1.0646802e-03]\n",
      "  [ 4.9745953e-03  8.6444728e-03 -8.4360223e-04 -3.3486153e-03\n",
      "    1.5087366e-03  7.3957542e-04 -2.1623662e-03  7.9905352e-04\n",
      "    1.4674127e-03  2.7164714e-03]]]\n"
     ]
    }
   ],
   "source": [
    "init_op = tf.global_variables_initializer()\n",
    "\n",
    "sess = tf.InteractiveSession()\n",
    "sess.run(init_op)\n",
    "\n",
    "outputs_val, outputs2_val, outputs4_val = sess.run([outputs, outputs2, outputs4], \n",
    "                                                   feed_dict={input_placeholder: [input_seq]})\n",
    "print(outputs_val.shape)\n",
    "print(outputs_val)\n",
    "print(outputs2_val.shape)\n",
    "print(outputs2_val)\n",
    "print(outputs4_val.shape)\n",
    "print(outputs4_val)\n"
   ]
  },
  {
   "cell_type": "code",
   "execution_count": 63,
   "metadata": {},
   "outputs": [],
   "source": [
    "states4_val = sess.run([states4], feed_dict={input_placeholder: [input_seq]})"
   ]
  },
  {
   "cell_type": "code",
   "execution_count": 64,
   "metadata": {},
   "outputs": [
    {
     "data": {
      "text/plain": [
       "[(LSTMStateTuple(c=array([[ 0.0484654 , -0.7509501 ,  2.067944  , -0.07097039,  0.3625129 ,\n",
       "          -0.92747074,  0.0217636 , -0.69247025,  1.3097454 ,  0.82370126]],\n",
       "        dtype=float32), h=array([[ 0.03599292, -0.4078633 ,  0.22614615, -0.05418926,  0.2281492 ,\n",
       "          -0.20670906,  0.01067004, -0.0911578 ,  0.2841806 ,  0.5925468 ]],\n",
       "        dtype=float32)),\n",
       "  LSTMStateTuple(c=array([[-0.12678367, -0.11990079, -0.28397876,  0.15799317, -0.01255583,\n",
       "          -0.21102399, -0.13731901, -0.5164168 , -0.26612   ,  0.20514539]],\n",
       "        dtype=float32), h=array([[-0.0710924 , -0.06256924, -0.12932979,  0.07410977, -0.00601432,\n",
       "          -0.11990869, -0.06246236, -0.25496387, -0.12927733,  0.10250472]],\n",
       "        dtype=float32)),\n",
       "  LSTMStateTuple(c=array([[ 0.01380781, -0.05211461, -0.0213224 , -0.01368252,  0.10115358,\n",
       "           0.0273076 , -0.05333103,  0.02399377,  0.02862765, -0.13027531]],\n",
       "        dtype=float32), h=array([[ 0.0070376 , -0.02645409, -0.01108098, -0.00723645,  0.049691  ,\n",
       "           0.01370803, -0.02660545,  0.0119826 ,  0.01477347, -0.06603261]],\n",
       "        dtype=float32)),\n",
       "  LSTMStateTuple(c=array([[ 0.00995411,  0.01737354, -0.00169753, -0.00668869,  0.00305781,\n",
       "           0.00149056, -0.00434379,  0.00161346,  0.0029735 ,  0.00539333]],\n",
       "        dtype=float32), h=array([[ 0.0049746 ,  0.00864447, -0.0008436 , -0.00334862,  0.00150874,\n",
       "           0.00073958, -0.00216237,  0.00079905,  0.00146741,  0.00271647]],\n",
       "        dtype=float32)))]"
      ]
     },
     "execution_count": 64,
     "metadata": {},
     "output_type": "execute_result"
    }
   ],
   "source": [
    "states4_val"
   ]
  },
  {
   "cell_type": "code",
   "execution_count": 53,
   "metadata": {},
   "outputs": [],
   "source": [
    "# tf.reset_default_graph()"
   ]
  },
  {
   "cell_type": "code",
   "execution_count": null,
   "metadata": {},
   "outputs": [],
   "source": []
  }
 ],
 "metadata": {
  "kernelspec": {
   "display_name": "Python 3",
   "language": "python",
   "name": "python3"
  },
  "language_info": {
   "codemirror_mode": {
    "name": "ipython",
    "version": 3
   },
   "file_extension": ".py",
   "mimetype": "text/x-python",
   "name": "python",
   "nbconvert_exporter": "python",
   "pygments_lexer": "ipython3",
   "version": "3.6.10"
  }
 },
 "nbformat": 4,
 "nbformat_minor": 4
}
