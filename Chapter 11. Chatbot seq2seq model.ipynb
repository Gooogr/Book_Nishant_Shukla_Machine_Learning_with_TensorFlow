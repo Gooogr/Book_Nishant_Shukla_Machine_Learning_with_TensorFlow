{
 "cells": [
  {
   "cell_type": "code",
   "execution_count": 2,
   "metadata": {},
   "outputs": [
    {
     "name": "stdout",
     "output_type": "stream",
     "text": [
      "1.5.0\n"
     ]
    }
   ],
   "source": [
    "import numpy as np\n",
    "import matplotlib.pyplot as plt\n",
    "import tensorflow as tf\n",
    "print(tf.__version__)\n",
    "\n",
    "from tensorflow.contrib import rnn"
   ]
  },
  {
   "cell_type": "markdown",
   "metadata": {},
   "source": [
    "### Пример построения многослойной RNN"
   ]
  },
  {
   "cell_type": "code",
   "execution_count": 32,
   "metadata": {},
   "outputs": [],
   "source": [
    "tf.reset_default_graph()"
   ]
  },
  {
   "cell_type": "code",
   "execution_count": 33,
   "metadata": {},
   "outputs": [],
   "source": [
    "# Размер элемента последовательности\n",
    "input_dim = 1\n",
    "# Максимальная длина последовательности\n",
    "seq_size = 6\n",
    "input_placeholder = tf.placeholder(dtype=tf.float32, shape = [None, seq_size, input_dim])"
   ]
  },
  {
   "cell_type": "code",
   "execution_count": 34,
   "metadata": {},
   "outputs": [],
   "source": [
    "def make_cell(state_dim):\n",
    "    return rnn.LSTMCell(state_dim)"
   ]
  },
  {
   "cell_type": "code",
   "execution_count": 35,
   "metadata": {},
   "outputs": [],
   "source": [
    "with tf.variable_scope('first_cell') as scope:\n",
    "    cell = make_cell(state_dim=10)\n",
    "    outputs, states = tf.nn.dynamic_rnn(cell, input_placeholder, dtype=tf.float32)"
   ]
  },
  {
   "cell_type": "markdown",
   "metadata": {},
   "source": [
    "Добавим второй слой RNN"
   ]
  },
  {
   "cell_type": "code",
   "execution_count": 36,
   "metadata": {},
   "outputs": [],
   "source": [
    "with tf.variable_scope('second_cell') as scope:\n",
    "    cell2 = make_cell(state_dim=10)\n",
    "    outputs2, states2 = tf.nn.dynamic_rnn(cell2, outputs, dtype=tf.float32)"
   ]
  },
  {
   "cell_type": "markdown",
   "metadata": {},
   "source": [
    "А вот так можно генерировать N-слойную RNN через функцию"
   ]
  },
  {
   "cell_type": "code",
   "execution_count": 37,
   "metadata": {},
   "outputs": [],
   "source": [
    "def make_multi_cell(state_dim, num_layers):\n",
    "    cells = [make_cell(state_dim) for _ in range(num_layers)]\n",
    "    return tf.contrib.rnn.MultiRNNCell(cells)\n",
    "\n",
    "multi_cell = make_multi_cell(10, 4)\n",
    "outputs4, states4 = tf.nn.dynamic_rnn(multi_cell, input_placeholder, dtype=tf.float32)"
   ]
  },
  {
   "cell_type": "code",
   "execution_count": 41,
   "metadata": {},
   "outputs": [
    {
     "name": "stdout",
     "output_type": "stream",
     "text": [
      "(6, 1)\n"
     ]
    }
   ],
   "source": [
    "input_seq = np.array([[1], [2], [3], [4], [5], [6]])\n",
    "print(input_seq.shape)"
   ]
  },
  {
   "cell_type": "code",
   "execution_count": 42,
   "metadata": {},
   "outputs": [
    {
     "name": "stdout",
     "output_type": "stream",
     "text": [
      "(1, 6, 10)\n",
      "[[[-0.00307173 -0.03539631 -0.01016669 -0.05383437 -0.07037321\n",
      "   -0.04753532  0.06798809  0.0640901   0.04056815  0.05623011]\n",
      "  [-0.01670326 -0.08199079 -0.02107241 -0.1370942  -0.1665251\n",
      "   -0.1370148   0.17336427  0.1492103   0.11538781  0.12378941]\n",
      "  [-0.04122627 -0.12775892 -0.02826295 -0.21329474 -0.2397992\n",
      "   -0.23141888  0.27381897  0.21248274  0.2058984   0.15902005]\n",
      "  [-0.0692692  -0.16801722 -0.03142184 -0.25920445 -0.2740623\n",
      "   -0.2902603   0.34151575  0.22984216  0.290049    0.15451398]\n",
      "  [-0.09328727 -0.19914539 -0.03328411 -0.27400136 -0.2803276\n",
      "   -0.30257037  0.37445784  0.21152599  0.35374615  0.13034484]\n",
      "  [-0.11126425 -0.21613653 -0.03728395 -0.26669627 -0.27176592\n",
      "   -0.27946222  0.38226405  0.17952025  0.3941878   0.10298966]]]\n",
      "(1, 6, 10)\n",
      "[[[ 0.00118928  0.00122869 -0.00881087 -0.00654218 -0.01675254\n",
      "   -0.00807388  0.01003356 -0.01403678  0.00817854  0.0142575 ]\n",
      "  [ 0.00439409  0.00623678 -0.03104945 -0.01710647 -0.05520292\n",
      "   -0.02342087  0.03412357 -0.04532234  0.02656344  0.04017406]\n",
      "  [ 0.00930864  0.01599266 -0.06367199 -0.02560467 -0.10662626\n",
      "   -0.04082056  0.06795007 -0.08778423  0.05148289  0.06686777]\n",
      "  [ 0.01490634  0.02915489 -0.09833445 -0.02790907 -0.15660565\n",
      "   -0.05683515  0.10157677 -0.13098815  0.07748921  0.08716589]\n",
      "  [ 0.02045999  0.04298085 -0.1275259  -0.02403389 -0.1959347\n",
      "   -0.07005624  0.12715277 -0.1675141   0.10054409  0.0996507 ]\n",
      "  [ 0.02583802  0.05473134 -0.14773247 -0.01662817 -0.22287625\n",
      "   -0.07956523  0.14192414 -0.19518493  0.11830482  0.10573206]]]\n",
      "(1, 6, 10)\n",
      "[[[-1.8043746e-04 -2.5407810e-04 -2.6110464e-04 -8.1666061e-05\n",
      "   -4.4930177e-05  1.3531161e-04 -2.4992708e-04 -3.4409901e-04\n",
      "   -3.0260606e-04  2.7257096e-04]\n",
      "  [-8.6940988e-04 -1.1668450e-03 -1.1195273e-03 -2.9498566e-04\n",
      "   -4.8625378e-05  5.6422653e-04 -1.1140351e-03 -1.5505460e-03\n",
      "   -1.4629135e-03  1.1358465e-03]\n",
      "  [-2.3679046e-03 -3.0174269e-03 -2.6763761e-03 -5.3911988e-04\n",
      "    2.5665294e-04  1.3573426e-03 -2.8636062e-03 -3.9916621e-03\n",
      "   -3.9607072e-03  2.6247131e-03]\n",
      "  [-4.8388955e-03 -5.7855165e-03 -4.6842820e-03 -5.6477590e-04\n",
      "    1.1812454e-03  2.5185465e-03 -5.5840756e-03 -7.7126063e-03\n",
      "   -7.9163443e-03  4.4073290e-03]\n",
      "  [-8.3213802e-03 -9.1651632e-03 -6.6749058e-03 -9.8210454e-05\n",
      "    2.9443612e-03  4.0279957e-03 -9.1575710e-03 -1.2482285e-02\n",
      "   -1.3091720e-02  5.9498763e-03]\n",
      "  [-1.2779008e-02 -1.2694723e-02 -8.1591783e-03  1.0199148e-03\n",
      "    5.6172442e-03  5.8271196e-03 -1.3278449e-02 -1.7946122e-02\n",
      "   -1.9053394e-02  6.7361207e-03]]]\n"
     ]
    }
   ],
   "source": [
    "init_op = tf.global_variables_initializer()\n",
    "\n",
    "sess = tf.InteractiveSession()\n",
    "sess.run(init_op)\n",
    "\n",
    "outputs_val, outputs2_val, outputs4_val = sess.run([outputs, outputs2, outputs4], \n",
    "                                                   feed_dict={input_placeholder: [input_seq]})\n",
    "print(outputs_val.shape)\n",
    "print(outputs_val)\n",
    "print(outputs2_val.shape)\n",
    "print(outputs2_val)\n",
    "print(outputs4_val.shape)\n",
    "print(outputs4_val)\n"
   ]
  },
  {
   "cell_type": "code",
   "execution_count": null,
   "metadata": {},
   "outputs": [],
   "source": []
  }
 ],
 "metadata": {
  "kernelspec": {
   "display_name": "Python 3",
   "language": "python",
   "name": "python3"
  },
  "language_info": {
   "codemirror_mode": {
    "name": "ipython",
    "version": 3
   },
   "file_extension": ".py",
   "mimetype": "text/x-python",
   "name": "python",
   "nbconvert_exporter": "python",
   "pygments_lexer": "ipython3",
   "version": "3.6.10"
  }
 },
 "nbformat": 4,
 "nbformat_minor": 4
}
