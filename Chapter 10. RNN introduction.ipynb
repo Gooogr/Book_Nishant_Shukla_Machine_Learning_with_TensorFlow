{
 "cells": [
  {
   "cell_type": "code",
   "execution_count": 11,
   "metadata": {},
   "outputs": [
    {
     "name": "stdout",
     "output_type": "stream",
     "text": [
      "1.5.0\n"
     ]
    }
   ],
   "source": [
    "import numpy as np\n",
    "import matplotlib.pyplot as plt\n",
    "import pandas as pd\n",
    "import tensorflow as tf\n",
    "print(tf.__version__)\n",
    "\n",
    "from tensorflow.contrib import rnn"
   ]
  },
  {
   "cell_type": "markdown",
   "metadata": {},
   "source": [
    "###  Пример однослойной LSTM сети"
   ]
  },
  {
   "cell_type": "code",
   "execution_count": 7,
   "metadata": {},
   "outputs": [],
   "source": [
    "tf.reset_default_graph()"
   ]
  },
  {
   "cell_type": "code",
   "execution_count": 8,
   "metadata": {},
   "outputs": [],
   "source": [
    "class SeriesPredictor:\n",
    "    def __init__(self, input_dim, seq_size, hidden_dim=10):\n",
    "        # Гиперпараметры\n",
    "        self.input_dim = input_dim\n",
    "        self.seq_size = seq_size\n",
    "        self.hidden_dim = hidden_dim\n",
    "        \n",
    "        self.W_out = tf.Variable(tf.random_normal([hidden_dim ,1]), name='W_out') # Add tf.random_normal to fix tile error\n",
    "        self.b_out = tf.Variable(tf.random_normal([1]), name='b_out')\n",
    "        self.x = tf.placeholder(tf.float32, [None, seq_size, input_dim])\n",
    "        self.y = tf.placeholder(tf.float32, [None, seq_size])\n",
    "        \n",
    "        self.cost = tf.reduce_mean(tf.square(self.model() - self.y)) #MSE\n",
    "        self.train_op = tf.train.AdamOptimizer().minimize(self.cost)\n",
    "        \n",
    "        self.saver = tf.train.Saver()\n",
    "        \n",
    "    def model(self):\n",
    "        '''\n",
    "        x - input size [T, batch_size, input_size]\n",
    "        '''\n",
    "        cell = rnn.BasicLSTMCell(self.hidden_dim, reuse=tf.get_variable_scope().reuse)\n",
    "        outputs, states = tf.nn.dynamic_rnn(cell, self.x, dtype=tf.float32)\n",
    "        num_examples = tf.shape(self.x)[0]\n",
    "        W_repeated = tf.tile(tf.expand_dims(self.W_out, 0), [num_examples, 1, 1])\n",
    "        \n",
    "        out = tf.matmul(outputs, W_repeated) + self.b_out\n",
    "        out = tf.squeeze(out)\n",
    "        \n",
    "        return out\n",
    "    \n",
    "    def train(self, train_x, train_y):\n",
    "        with tf.Session() as sess:\n",
    "            tf.get_variable_scope().reuse_variables()\n",
    "            sess.run(tf.global_variables_initializer())\n",
    "            for i in range(1000):\n",
    "                _, mse = sess.run([self.train_op, self.cost], feed_dict={self.x: train_x, self.y: train_y})\n",
    "                if i % 100 == 0:\n",
    "                    print(i, mse)\n",
    "                    save_path = self.saver.save(sess, './data/chapter_10/model.ckpt')\n",
    "                    print('Model saved to :', save_path)\n",
    "                \n",
    "    def test(self, test_x):\n",
    "        with tf.Session() as sess:\n",
    "            tf.get_variable_scope().reuse_variables()\n",
    "            self.saver.restore(sess, './data/chapter_10/model.ckpt')\n",
    "            output = sess.run(self.model(), feed_dict={self.x: test_x})\n",
    "            return output\n",
    "                    "
   ]
  },
  {
   "cell_type": "code",
   "execution_count": 9,
   "metadata": {},
   "outputs": [
    {
     "name": "stdout",
     "output_type": "stream",
     "text": [
      "0 122.60974\n",
      "Model saved to : ./data/chapter_10/model.ckpt\n",
      "100 76.20094\n",
      "Model saved to : ./data/chapter_10/model.ckpt\n",
      "200 33.75389\n",
      "Model saved to : ./data/chapter_10/model.ckpt\n",
      "300 14.36016\n",
      "Model saved to : ./data/chapter_10/model.ckpt\n",
      "400 7.8575435\n",
      "Model saved to : ./data/chapter_10/model.ckpt\n",
      "500 5.573517\n",
      "Model saved to : ./data/chapter_10/model.ckpt\n",
      "600 4.408064\n",
      "Model saved to : ./data/chapter_10/model.ckpt\n",
      "700 3.4585724\n",
      "Model saved to : ./data/chapter_10/model.ckpt\n",
      "800 2.6551015\n",
      "Model saved to : ./data/chapter_10/model.ckpt\n",
      "900 2.0023189\n",
      "Model saved to : ./data/chapter_10/model.ckpt\n",
      "INFO:tensorflow:Restoring parameters from ./data/chapter_10/model.ckpt\n",
      "\n",
      "Lets run some tests!\n",
      "\n",
      "When the input is [[1], [2], [3], [4]]\n",
      "The ground truth output should be [[1], [3], [5], [7]]\n",
      "And the model thinks it is [1.2147193 3.2669868 6.097159  8.508504 ]\n",
      "\n",
      "When the input is [[4], [5], [6], [7]]\n",
      "The ground truth output should be [[4], [9], [11], [13]]\n",
      "And the model thinks it is [ 3.9823792  8.744963  11.108948  11.725934 ]\n",
      "\n"
     ]
    }
   ],
   "source": [
    "predictor = SeriesPredictor(input_dim=1, seq_size=4, hidden_dim=10)\n",
    "train_x = [[[1], [2], [5], [6]],\n",
    "           [[5], [7], [7], [8]],\n",
    "           [[3], [4], [5], [7]]]\n",
    "train_y = [[1, 3, 7, 11],\n",
    "           [5, 12, 14, 15],\n",
    "           [3, 7, 9, 12]]\n",
    "predictor.train(train_x, train_y)\n",
    "\n",
    "test_x = [[[1], [2], [3], [4]], \n",
    "          [[4], [5], [6], [7]]]  \n",
    "actual_y = [[[1], [3], [5], [7]],\n",
    "            [[4], [9], [11], [13]]]\n",
    "pred_y = predictor.test(test_x)\n",
    "\n",
    "print(\"\\nLets run some tests!\\n\")\n",
    "\n",
    "for i, x in enumerate(test_x):\n",
    "    print(\"When the input is {}\".format(x))\n",
    "    print(\"The ground truth output should be {}\".format(actual_y[i]))\n",
    "    print(\"And the model thinks it is {}\\n\".format(pred_y[i]))\n"
   ]
  },
  {
   "cell_type": "markdown",
   "metadata": {},
   "source": [
    "### Модель для временного ряда"
   ]
  },
  {
   "cell_type": "code",
   "execution_count": 53,
   "metadata": {},
   "outputs": [],
   "source": [
    "tf.reset_default_graph()"
   ]
  },
  {
   "cell_type": "code",
   "execution_count": 54,
   "metadata": {},
   "outputs": [
    {
     "data": {
      "image/png": "[encoded data removed]",
      "text/plain": [
       "<Figure size 432x288 with 1 Axes>"
      ]
     },
     "metadata": {
      "needs_background": "light"
     },
     "output_type": "display_data"
    }
   ],
   "source": [
    "URL = 'https://raw.githubusercontent.com/blue-yonder/pydse/master/pydse/data/international-airline-passengers.csv'\n",
    "time_data = pd.read_csv(URL, sep=';')\n",
    "time_data['Month'] = pd.to_datetime(time_data['Month'])\n",
    "time_data.set_index('Month', inplace = True)\n",
    "time_data.plot()\n",
    "plt.show()"
   ]
  },
  {
   "cell_type": "code",
   "execution_count": 55,
   "metadata": {},
   "outputs": [],
   "source": [
    "time_data['Passengers_norm'] = (time_data['Passengers'] - np.mean(time_data['Passengers']))/np.std(time_data['Passengers'])"
   ]
  },
  {
   "cell_type": "code",
   "execution_count": 56,
   "metadata": {},
   "outputs": [],
   "source": [
    "def split_data(x, train_ratio=0.8):\n",
    "    train_data = x[:int(len(x) * train_ratio)]\n",
    "    test_data = x[int(len(x) * train_ratio):]\n",
    "    return train_data, test_data"
   ]
  },
  {
   "cell_type": "code",
   "execution_count": 57,
   "metadata": {},
   "outputs": [],
   "source": [
    "def plot_results(train_x, predictions, actual, filename=None):\n",
    "    plt.figure()\n",
    "    num_train = len(train_x)\n",
    "    plt.plot(list(range(num_train)), train_x, color='b', label='training data')\n",
    "    plt.plot(list(range(num_train, num_train + len(predictions))), predictions, color='r', label='predicted')\n",
    "    plt.plot(list(range(num_train, num_train + len(actual))), actual, color='g', label='test data')\n",
    "    plt.legend()\n",
    "    if filename is not None:\n",
    "        plt.savefig(filename)\n",
    "    else:\n",
    "        plt.show()"
   ]
  },
  {
   "cell_type": "code",
   "execution_count": 58,
   "metadata": {},
   "outputs": [],
   "source": [
    "seq_size = 5\n",
    "predictor = SeriesPredictor(input_dim=1, seq_size=seq_size, hidden_dim=100)\n",
    "train_data, actual_vals = split_data(time_data['Passengers_norm'])\n",
    "\n",
    "train_x, train_y = [], []\n",
    "for i in range(len(train_data) - seq_size - 1):\n",
    "    train_x.append(np.expand_dims(train_data[i:i+seq_size], axis=1).tolist())\n",
    "    train_y.append(train_data[i+1:i+seq_size+1])\n",
    "\n",
    "test_x, test_y = [], []\n",
    "for i in range(len(actual_vals) - seq_size - 1):\n",
    "    test_x.append(np.expand_dims(actual_vals[i:i+seq_size], axis=1).tolist())\n",
    "    test_y.append(actual_vals[i+1:i+seq_size+1])"
   ]
  },
  {
   "cell_type": "code",
   "execution_count": 59,
   "metadata": {},
   "outputs": [
    {
     "name": "stdout",
     "output_type": "stream",
     "text": [
      "0 1.6713176\n",
      "Model saved to : ./data/chapter_10/model.ckpt\n",
      "100 0.08278237\n",
      "Model saved to : ./data/chapter_10/model.ckpt\n",
      "200 0.048039343\n",
      "Model saved to : ./data/chapter_10/model.ckpt\n",
      "300 0.043725643\n",
      "Model saved to : ./data/chapter_10/model.ckpt\n",
      "400 0.04215018\n",
      "Model saved to : ./data/chapter_10/model.ckpt\n",
      "500 0.04101124\n",
      "Model saved to : ./data/chapter_10/model.ckpt\n",
      "600 0.039941587\n",
      "Model saved to : ./data/chapter_10/model.ckpt\n",
      "700 0.039278816\n",
      "Model saved to : ./data/chapter_10/model.ckpt\n",
      "800 0.038845956\n",
      "Model saved to : ./data/chapter_10/model.ckpt\n",
      "900 0.038462337\n",
      "Model saved to : ./data/chapter_10/model.ckpt\n"
     ]
    }
   ],
   "source": [
    "predictor.train(train_x, train_y) # Поскольку имя модели не является параметром класса, мы перезапишем старые файлы с прошлого шага"
   ]
  },
  {
   "cell_type": "code",
   "execution_count": 65,
   "metadata": {},
   "outputs": [
    {
     "name": "stdout",
     "output_type": "stream",
     "text": [
      "INFO:tensorflow:Restoring parameters from ./data/chapter_10/model.ckpt\n"
     ]
    }
   ],
   "source": [
    "pred_y = predictor.test(test_x)[:, 0]"
   ]
  },
  {
   "cell_type": "code",
   "execution_count": 66,
   "metadata": {},
   "outputs": [
    {
     "data": {
      "image/png": "[encoded data removed]",
      "text/plain": [
       "<Figure size 432x288 with 1 Axes>"
      ]
     },
     "metadata": {
      "needs_background": "light"
     },
     "output_type": "display_data"
    }
   ],
   "source": [
    "plot_results(train_data, pred_y, actual_vals)"
   ]
  },
  {
   "cell_type": "code",
   "execution_count": null,
   "metadata": {},
   "outputs": [],
   "source": []
  }
 ],
 "metadata": {
  "kernelspec": {
   "display_name": "Python 3",
   "language": "python",
   "name": "python3"
  },
  "language_info": {
   "codemirror_mode": {
    "name": "ipython",
    "version": 3
   },
   "file_extension": ".py",
   "mimetype": "text/x-python",
   "name": "python",
   "nbconvert_exporter": "python",
   "pygments_lexer": "ipython3",
   "version": "3.6.10"
  }
 },
 "nbformat": 4,
 "nbformat_minor": 4
}
